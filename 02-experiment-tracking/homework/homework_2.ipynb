{
 "cells": [
  {
   "cell_type": "code",
   "execution_count": 22,
   "metadata": {
    "collapsed": true,
    "ExecuteTime": {
     "end_time": "2024-05-27T15:42:01.049522Z",
     "start_time": "2024-05-27T15:42:01.044430Z"
    }
   },
   "outputs": [],
   "source": [
    "import pandas as pd\n",
    "import pickle\n",
    "import seaborn as sns\n",
    "import matplotlib.pyplot as plt\n",
    "import mlflow\n",
    "from preprocess_data import run_data_prep\n",
    "from train import run_train"
   ]
  },
  {
   "cell_type": "code",
   "execution_count": 23,
   "outputs": [],
   "source": [
    "# mlflow --version --> mlflow, version 2.13.0 (This is taken from terminal)"
   ],
   "metadata": {
    "collapsed": false,
    "ExecuteTime": {
     "end_time": "2024-05-27T15:42:01.055160Z",
     "start_time": "2024-05-27T15:42:01.048600Z"
    }
   }
  },
  {
   "cell_type": "code",
   "execution_count": 24,
   "outputs": [],
   "source": [
    "# python preprocess_data.py --raw_data_path '/Users/s.koc/Projects/mlops_zoomcamp/data/' --dest_path ./output --> Outputted 4 pkl files with names dv, test,train and val"
   ],
   "metadata": {
    "collapsed": false,
    "ExecuteTime": {
     "end_time": "2024-05-27T15:42:01.055324Z",
     "start_time": "2024-05-27T15:42:01.052088Z"
    }
   }
  },
  {
   "cell_type": "code",
   "execution_count": 25,
   "outputs": [
    {
     "name": "stderr",
     "output_type": "stream",
     "text": [
      "2024/05/27 17:42:01 INFO mlflow.tracking.fluent: Experiment with name 'nyc-taxi-exp-hw2' does not exist. Creating a new experiment.\n"
     ]
    },
    {
     "name": "stdout",
     "output_type": "stream",
     "text": [
      "2\n"
     ]
    },
    {
     "name": "stderr",
     "output_type": "stream",
     "text": [
      "/Users/s.koc/.pyenv/versions/3.12.3/envs/mlops-zoomcamp/lib/python3.12/site-packages/sklearn/metrics/_regression.py:492: FutureWarning: 'squared' is deprecated in version 1.4 and will be removed in 1.6. To calculate the root mean squared error, use the function'root_mean_squared_error'.\n",
      "  warnings.warn(\n"
     ]
    }
   ],
   "source": [
    "# Q3: Train a model with autolog\n",
    "mlflow.set_tracking_uri(\"sqlite:///mlflow.db\")\n",
    "mlflow.set_experiment(\"nyc-taxi-exp-hw2\")\n",
    "\n",
    "data_path = \"./output\"\n",
    "model, rmse = run_train(data_path)\n",
    "print(model.min_samples_split)\n",
    "\n",
    "# Log the parameters, metrics, and model to MLflow\n",
    "with mlflow.start_run():\n",
    "    mlflow.log_param(\"min_samples_split\", model.min_samples_split)\n",
    "    mlflow.log_metric(\"rmse\", rmse)"
   ],
   "metadata": {
    "collapsed": false,
    "ExecuteTime": {
     "end_time": "2024-05-27T15:42:07.105985Z",
     "start_time": "2024-05-27T15:42:01.056850Z"
    }
   }
  },
  {
   "cell_type": "code",
   "execution_count": 25,
   "outputs": [],
   "source": [],
   "metadata": {
    "collapsed": false,
    "ExecuteTime": {
     "end_time": "2024-05-27T15:42:07.108621Z",
     "start_time": "2024-05-27T15:42:07.107032Z"
    }
   }
  }
 ],
 "metadata": {
  "kernelspec": {
   "name": "mlops-zoomcamp",
   "language": "python",
   "display_name": "mlops-zoomcamp"
  },
  "language_info": {
   "codemirror_mode": {
    "name": "ipython",
    "version": 2
   },
   "file_extension": ".py",
   "mimetype": "text/x-python",
   "name": "python",
   "nbconvert_exporter": "python",
   "pygments_lexer": "ipython2",
   "version": "2.7.6"
  }
 },
 "nbformat": 4,
 "nbformat_minor": 0
}
